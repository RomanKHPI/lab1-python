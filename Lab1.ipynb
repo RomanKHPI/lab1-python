{
 "cells": [
  {
   "cell_type": "markdown",
   "metadata": {},
   "source": [
    "# ЧЕСЬКА РЕСПУБЛІКАа"
   ]
  },
  {
   "cell_type": "markdown",
   "metadata": {},
   "source": [
    "## Загальна інформація про Чехію"
   ]
  },
  {
   "cell_type": "markdown",
   "metadata": {},
   "source": [
    "<span style=\"color:blue\">\n",
    "Площина - 23 200 км²\n",
    "</span>"
   ]
  },
  {
   "cell_type": "markdown",
   "metadata": {},
   "source": [
    "<span style=\"color:yellow\">\n",
    "Населення - 921 804 тисячі\n",
    "</span>"
   ]
  },
  {
   "cell_type": "markdown",
   "metadata": {},
   "source": [
    "## Державний устрій Чеської Республіки"
   ]
  },
  {
   "cell_type": "markdown",
   "metadata": {},
   "source": [
    "<div style=\"border: black; border-width:2px; border-style:solid;\"> Державний устрій Джибуті — унітарна конституційна парламентська республіка.</div>"
   ]
  },
  {
   "cell_type": "markdown",
   "metadata": {},
   "source": [
    "## Культура і видатні діячи Чеської республіки"
   ]
  },
  {
   "cell_type": "markdown",
   "metadata": {},
   "source": [
    "<li>Архітектурні пам'ятки Чехії\n",
    "<ul>\n",
    "<li><a href=\"https://uk.wikipedia.org/wiki/Карлові_Вари\"> Карлові Вари, Чехія </a></li>\n",
    "<li><a href=\"https://ru.wikipedia.org/wiki/Кутна_Гора\"> Кутна-Гора, Чехія </a></li>\n",
    "<li><a href=\"https://ru.wikipedia.org/wiki/Карлштейн\"> Карлштейн, Чехія </a></li>\n",
    "</ul>\n",
    "</li>"
   ]
  },
  {
   "cell_type": "markdown",
   "metadata": {},
   "source": [
    "### Видатні діячі Чехії"
   ]
  },
  {
   "cell_type": "markdown",
   "metadata": {},
   "source": [
    "<table width=\"600\" border=\"1\">\n",
    "    <tr>\n",
    "        <th>Діяч</th>\n",
    "        <th>Фотографія</th>\n",
    "        <th>Опис</th>\n",
    "    </tr>\n",
    "    <tr>\n",
    "        <td>Святий покровитель Чехії Святий Вацлав</td>\n",
    "        <td><img src=\"waclav.jpg\" alt=\"\"></td>\n",
    "        <td>Святий Вацлав (бл. 907 - 935 г або 936 г). Патрон Чехії, князь з чеського роду Пржемисловічей. У всьому світі його шанують католики і православні. Правив Чехією з 924 року і до самої своєї смерті.\n",
    "        </td>\n",
    "    </tr>\n",
    "        <tr>\n",
    "            <td>Томаш Масарик</td>\n",
    "            <td><img src=\"masarik.jpg\" alt=\"\"></td>\n",
    "            <td>Томаш Гарріг Масарик (1850 - 1937) - перший президент Чехословацької Республіки, соціолог, філософ, державний і громадський діяч. За життя Масарик був зведений в культ «Президента-визволителя».\n",
    "            </td>\n",
    "    </tr>\n",
    "        </tr>\n",
    "        <tr>\n",
    "        <td>Ян Гус</td>\n",
    "        <td><img src=\"gus.jpg\" alt=\"\"></td>\n",
    "        <td>Ян Гус (1369 - 1415) - національний герой Чехії, ідеолог чеської Реформації, проповідник. Освіту здобув в Празькому університеті, там же читав лекції, будучи деканом філософського факультету. Був проповідником в костелі св. Михайла, настоятелем приватної Віфлеємської каплиці. У своїх проповідях (а проводив їх на чеською мовою) критикував феодалів, клір і бюргерів, а також стосувався повсякденному житті чехів.\n",
    "        </td>\n",
    "    </tr>\n",
    "</table>         "
   ]
  },
  {
   "cell_type": "markdown",
   "metadata": {},
   "source": [
    "## Природа Чехії"
   ]
  },
  {
   "attachments": {},
   "cell_type": "markdown",
   "metadata": {},
   "source": [
    "<img src=\"https://24tv.ua/resources/photos/news/202208/2131860_16016408.jpg?202208125659&w=1280&h=853&fit=cover%27&output=webp\" alt=\"\"/>"
   ]
  },
  {
   "cell_type": "markdown",
   "metadata": {},
   "source": [
    "<img src=\"https://wallpaperaccess.com/full/219248.jpg\" alt=\"\"/>"
   ]
  },
  {
   "cell_type": "markdown",
   "metadata": {},
   "source": [
    "<img src=\"https://www.amazingczechia.com/wp-content/uploads/2020/09/podyji-national-park-czechia-05.jpg.webp\" alt=\"\"/>\n"
   ]
  },
  {
   "cell_type": "markdown",
   "metadata": {},
   "source": [
    "## Прапор Чехії у форматі SVG"
   ]
  },
  {
   "cell_type": "markdown",
   "metadata": {},
   "source": [
    "<img src=\"https://upload.wikimedia.org/wikipedia/commons/c/cb/Flag_of_the_Czech_Republic.svg\" alt=\"\"/>"
   ]
  }
 ],
 "metadata": {
  "kernelspec": {
   "display_name": "Python 3 (ipykernel)",
   "language": "python",
   "name": "python3"
  },
  "language_info": {
   "codemirror_mode": {
    "name": "ipython",
    "version": 3
   },
   "file_extension": ".py",
   "mimetype": "text/x-python",
   "name": "python",
   "nbconvert_exporter": "python",
   "pygments_lexer": "ipython3",
   "version": "3.12.0"
  }
 },
 "nbformat": 4,
 "nbformat_minor": 4
}
